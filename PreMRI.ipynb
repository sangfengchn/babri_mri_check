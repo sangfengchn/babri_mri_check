{
 "metadata": {
  "language_info": {
   "codemirror_mode": {
    "name": "ipython",
    "version": 3
   },
   "file_extension": ".py",
   "mimetype": "text/x-python",
   "name": "python",
   "nbconvert_exporter": "python",
   "pygments_lexer": "ipython3",
   "version": "3.8.3-final"
  },
  "orig_nbformat": 2,
  "kernelspec": {
   "name": "Python 3.8.3 64-bit ('base': conda)",
   "display_name": "Python 3.8.3 64-bit ('base': conda)",
   "metadata": {
    "interpreter": {
     "hash": "0949b4906066fb40f7c2e06d6567984e6522363630cfea67fc3009ac35506c92"
    }
   }
  }
 },
 "nbformat": 4,
 "nbformat_minor": 2,
 "cells": [
  {
   "source": [
    "解压原始数据。"
   ],
   "cell_type": "markdown",
   "metadata": {}
  },
  {
   "cell_type": "code",
   "execution_count": 1,
   "metadata": {
    "tags": [
     "outputPrepend"
    ]
   },
   "outputs": [
    {
     "output_type": "stream",
     "name": "stdout",
     "text": "ZHANGZJ_LX_LIUZHONGXUN.MR.BNU_CST_2011_ZHANG_ZHANJUN.0002.0088.2019.02.21.10.03.25.687500.107967098.IMA\n20190221_T01_ZHANGZJ_LX_LIUZHONGXUN/20190221_T01_ZHANGZJ_LX_LIUZHONGXUN.MR.BNU_CST_2011_ZHANG_ZHANJUN.0003.0126.2019.02.21.10.03.25.687500.107972888.IMA\n20190221_T01_ZHANGZJ_LX_LIUZHONGXUN/20190221_T01_ZHANGZJ_LX_LIUZHONGXUN.MR.BNU_CST_2011_ZHANG_ZHANJUN.0001.0002.2019.02.21.10.03.25.687500.107962460.IMA\n20190221_T01_ZHANGZJ_LX_LIUZHONGXUN/20190221_T01_ZHANGZJ_LX_LIUZHONGXUN.MR.BNU_CST_2011_ZHANG_ZHANJUN.0002.0207.2019.02.21.10.03.25.687500.107969258.IMA\n20190221_T01_ZHANGZJ_LX_LIUZHONGXUN/20190221_T01_ZHANGZJ_LX_LIUZHONGXUN.MR.BNU_CST_2011_ZHANG_ZHANJUN.0006.0004.2019.02.21.10.03.25.687500.107976842.IMA\n20190221_T01_ZHANGZJ_LX_LIUZHONGXUN/20190221_T01_ZHANGZJ_LX_LIUZHONGXUN.MR.BNU_CST_2011_ZHANG_ZHANJUN.0006.0023.2019.02.21.10.03.25.687500.107977191.IMA\n20190221_T01_ZHANGZJ_LX_LIUZHONGXUN/20190221_T01_ZHANGZJ_LX_LIUZHONGXUN.MR.BNU_CST_2011_ZHANG_ZHANJUN.0003.0140.2019.02.21.10.03.25.687500.107973140.IMA\n20190221_T01_ZHANGZJ_LX_LIUZHONGXUN/20190221_T01_ZHANGZJ_LX_LIUZHONGXUN.MR.BNU_CST_2011_ZHANG_ZHANJUN.0100.0021.2019.02.21.10.03.25.687500.346395769.IMA\n20190221_T01_ZHANGZJ_LX_LIUZHONGXUN/20190221_T01_ZHANGZJ_LX_LIUZHONGXUN.MR.BNU_CST_2011_ZHANG_ZHANJUN.0002.0176.2019.02.21.10.03.25.687500.107968697.IMA\n20190221_T01_ZHANGZJ_LX_LIUZHONGXUN/20190221_T01_ZHANGZJ_LX_LIUZHONGXUN.MR.BNU_CST_2011_ZHANG_ZHANJUN.0005.0018.2019.02.21.10.03.25.687500.107976132.IMA\n20190221_T01_ZHANGZJ_LX_LIUZHONGXUN/20190221_T01_ZHANGZJ_LX_LIUZHONGXUN.MR.BNU_CST_2011_ZHANG_ZHANJUN.0003.0094.2019.02.21.10.03.25.687500.107972312.IMA\n20190221_T01_ZHANGZJ_LX_LIUZHONGXUN/20190221_T01_ZHANGZJ_LX_LIUZHONGXUN.MR.BNU_CST_2011_ZHANG_ZHANJUN.0003.0168.2019.02.21.10.03.25.687500.107973644.IMA\n20190221_T01_ZHANGZJ_LX_LIUZHONGXUN/20190221_T01_ZHANGZJ_LX_LIUZHONGXUN.MR.BNU_CST_2011_ZHANG_ZHANJUN.0001.0013.2019.02.21.10.03.25.687500.107962631.IMA\n20190221_T01_ZHANGZJ_LX_LIUZHONGXUN/20190221_T01_ZHANGZJ_LX_LIUZHONGXUN.MR.BNU_CST_2011_ZHANG_ZHANJUN.0002.0191.2019.02.21.10.03.25.687500.107968967.IMA\n20190221_T01_ZHANGZJ_LX_LIUZHONGXUN/20190221_T01_ZHANGZJ_LX_LIUZHONGXUN.MR.BNU_CST_2011_ZHANG_ZHANJUN.0101.0016.2019.02.21.10.03.25.687500.346409698.IMA\n20190221_T01_ZHANGZJ_LX_LIUZHONGXUN/20190221_T01_ZHANGZJ_LX_LIUZHONGXUN.MR.BNU_CST_2011_ZHANG_ZHANJUN.0002.0192.2019.02.21.10.03.25.687500.107968985.IMA\n20190221_T01_ZHANGZJ_LX_LIUZHONGXUN/20190221_T01_ZHANGZJ_LX_LIUZHONGXUN.MR.BNU_CST_2011_ZHANG_ZHANJUN.0002.0236.2019.02.21.10.03.25.687500.107969786.IMA\n20190221_T01_ZHANGZJ_LX_LIUZHONGXUN/20190221_T01_ZHANGZJ_LX_LIUZHONGXUN.MR.BNU_CST_2011_ZHANG_ZHANJUN.0003.0152.2019.02.21.10.03.25.687500.107973356.IMA\n20190221_T01_ZHANGZJ_LX_LIUZHONGXUN/20190221_T01_ZHANGZJ_LX_LIUZHONGXUN.MR.BNU_CST_2011_ZHANG_ZHANJUN.0004.0015.2019.02.21.10.03.25.687500.107974862.IMA\n20190221_T01_ZHANGZJ_LX_LIUZHONGXUN/20190221_T01_ZHANGZJ_LX_LIUZHONGXUN.MR.BNU_CST_2011_ZHANG_ZHANJUN.0004.0013.2019.02.21.10.03.25.687500.107974844.IMA\n20190221_T01_ZHANGZJ_LX_LIUZHONGXUN/20190221_T01_ZHANGZJ_LX_LIUZHONGXUN.MR.BNU_CST_2011_ZHANG_ZHANJUN.0002.0174.2019.02.21.10.03.25.687500.107968661.IMA\n20190221_T01_ZHANGZJ_LX_LIUZHONGXUN/REPORT_20190221_T01_ZHANGZJ_LX_LIUZHONGXUN.SR.BNU_CST_2011_ZHANG_ZHANJUN.0099.0008.2019.02.21.10.03.25.687500.346426589.SR\n20190221_T01_ZHANGZJ_LX_LIUZHONGXUN/20190221_T01_ZHANGZJ_LX_LIUZHONGXUN.MR.BNU_CST_2011_ZHANG_ZHANJUN.0002.0231.2019.02.21.10.03.25.687500.107969693.IMA\n20190221_T01_ZHANGZJ_LX_LIUZHONGXUN/20190221_T01_ZHANGZJ_LX_LIUZHONGXUN.MR.BNU_CST_2011_ZHANG_ZHANJUN.0002.0168.2019.02.21.10.03.25.687500.107968550.IMA\n20190221_T01_ZHANGZJ_LX_LIUZHONGXUN/20190221_T01_ZHANGZJ_LX_LIUZHONGXUN.MR.BNU_CST_2011_ZHANG_ZHANJUN.0003.0012.2019.02.21.10.03.25.687500.107970836.IMA\n20190221_T01_ZHANGZJ_LX_LIUZHONGXUN/20190221_T01_ZHANGZJ_LX_LIUZHONGXUN.MR.BNU_CST_2011_ZHANG_ZHANJUN.0100.0006.2019.02.21.10.03.25.687500.346395304.IMA\n20190221_T01_ZHANGZJ_LX_LIUZHONGXUN/20190221_T01_ZHANGZJ_LX_LIUZHONGXUN.MR.BNU_CST_2011_ZHANG_ZHANJUN.0002.0098.2019.02.21.10.03.25.687500.107967281.IMA\n20190221_T01_ZHANGZJ_LX_LIUZHONGXUN/20190221_T01_ZHANGZJ_LX_LIUZHONGXUN.MR.BNU_CST_2011_ZHANG_ZHANJUN.0003.0112.2019.02.21.10.03.25.687500.107972636.IMA\n20190221_T01_ZHANGZJ_LX_LIUZHONGXUN/20190221_T01_ZHANGZJ_LX_LIUZHONGXUN.MR.BNU_CST_2011_ZHANG_ZHANJUN.0002.0147.2019.02.21.10.03.25.687500.107968169.IMA\n20190221_T01_ZHANGZJ_LX_LIUZHONGXUN/20190221_T01_ZHANGZJ_LX_LIUZHONGXUN.MR.BNU_CST_2011_ZHANG_ZHANJUN.0003.0014.2019.02.21.10.03.25.687500.107970872.IMA\n20190221_T01_ZHANGZJ_LX_LIUZHONGXUN/20190221_T01_ZHANGZJ_LX_LIUZHONGXUN.MR.BNU_CST_2011_ZHANG_ZHANJUN.0100.0004.2019.02.21.10.03.25.687500.346395242.IMA\n20190221_T01_ZHANGZJ_LX_LIUZHONGXUN/20190221_T01_ZHANGZJ_LX_LIUZHONGXUN.MR.BNU_CST_2011_ZHANG_ZHANJUN.0002.0052.2019.02.21.10.03.25.687500.107966444.IMA\n20190221_T01_ZHANGZJ_LX_LIUZHONGXUN/20190221_T01_ZHANGZJ_LX_LIUZHONGXUN.MR.BNU_CST_2011_ZHANG_ZHANJUN.0003.0119.2019.02.21.10.03.25.687500.107972762.IMA\n20190221_T01_ZHANGZJ_LX_LIUZHONGXUN/20190221_T01_ZHANGZJ_LX_LIUZHONGXUN.MR.BNU_CST_2011_ZHANG_ZHANJUN.0003.0070.2019.02.21.10.03.25.687500.107971880.IMA\n20190221_T01_ZHANGZJ_LX_LIUZHONGXUN/20190221_T01_ZHANGZJ_LX_LIUZHONGXUN.MR.BNU_CST_2011_ZHANG_ZHANJUN.0005.0019.2019.02.21.10.03.25.687500.107975931.IMA\n20190221_T01_ZHANGZJ_LX_LIUZHONGXUN/20190221_T01_ZHANGZJ_LX_LIUZHONGXUN.MR.BNU_CST_2011_ZHANG_ZHANJUN.0003.0136.2019.02.21.10.03.25.687500.107973068.IMA\n20190221_T01_ZHANGZJ_LX_LIUZHONGXUN/20190221_T01_ZHANGZJ_LX_LIUZHONGXUN.MR.BNU_CST_2011_ZHANG_ZHANJUN.0002.0233.2019.02.21.10.03.25.687500.107969732.IMA\n20190221_T01_ZHANGZJ_LX_LIUZHONGXUN/20190221_T01_ZHANGZJ_LX_LIUZHONGXUN.MR.BNU_CST_2011_ZHANG_ZHANJUN.0002.0197.2019.02.21.10.03.25.687500.107969078.IMA\n20190221_T01_ZHANGZJ_LX_LIUZHONGXUN/20190221_T01_ZHANGZJ_LX_LIUZHONGXUN.MR.BNU_CST_2011_ZHANG_ZHANJUN.0100.0001.2019.02.21.10.03.25.687500.346395149.IMA\n20190221_T01_ZHANGZJ_LX_LIUZHONGXUN/20190221_T01_ZHANGZJ_LX_LIUZHONGXUN.MR.BNU_CST_2011_ZHANG_ZHANJUN.0002.0199.2019.02.21.10.03.25.687500.107969114.IMA\n20190221_T01_ZHANGZJ_LX_LIUZHONGXUN/20190221_T01_ZHANGZJ_LX_LIUZHONGXUN.MR.BNU_CST_2011_ZHANG_ZHANJUN.0002.0072.2019.02.21.10.03.25.687500.107966807.IMA\n20190221_T01_ZHANGZJ_LX_LIUZHONGXUN/20190221_T01_ZHANGZJ_LX_LIUZHONGXUN.MR.BNU_CST_2011_ZHANG_ZHANJUN.0002.0096.2019.02.21.10.03.25.687500.107967245.IMA\n20190221_T01_ZHANGZJ_LX_LIUZHONGXUN/20190221_T01_ZHANGZJ_LX_LIUZHONGXUN.MR.BNU_CST_2011_ZHANG_ZHANJUN.0003.0033.2019.02.21.10.03.25.687500.107971214.IMA\n20190221_T01_ZHANGZJ_LX_LIUZHONGXUN/20190221_T01_ZHANGZJ_LX_LIUZHONGXUN.MR.BNU_CST_2011_ZHANG_ZHANJUN.0002.0181.2019.02.21.10.03.25.687500.107968787.IMA\n20190221_T01_ZHANGZJ_LX_LIUZHONGXUN/20190221_T01_ZHANGZJ_LX_LIUZHONGXUN.MR.BNU_CST_2011_ZHANG_ZHANJUN.0003.0001.2019.02.21.10.03.25.687500.107970638.IMA\n20190221_T01_ZHANGZJ_LX_LIUZHONGXUN/20190221_T01_ZHANGZJ_LX_LIUZHONGXUN.MR.BNU_CST_2011_ZHANG_ZHANJUN.0002.0091.2019.02.21.10.03.25.687500.107967152.IMA\n20190221_T01_ZHANGZJ_LX_LIUZHONGXUN/20190221_T01_ZHANGZJ_LX_LIUZHONGXUN.MR.BNU_CST_2011_ZHANG_ZHANJUN.0002.0021.2019.02.21.10.03.25.687500.107965876.IMA\n20190221_T01_ZHANGZJ_LX_LIUZHONGXUN/20190221_T01_ZHANGZJ_LX_LIUZHONGXUN.MR.BNU_CST_2011_ZHANG_ZHANJUN.0002.0016.2019.02.21.10.03.25.687500.107965786.IMA\n20190221_T01_ZHANGZJ_LX_LIUZHONGXUN/20190221_T01_ZHANGZJ_LX_LIUZHONGXUN.MR.BNU_CST_2011_ZHANG_ZHANJUN.0002.0238.2019.02.21.10.03.25.687500.107969822.IMA\n20190221_T01_ZHANGZJ_LX_LIUZHONGXUN/20190221_T01_ZHANGZJ_LX_LIUZHONGXUN.MR.BNU_CST_2011_ZHANG_ZHANJUN.0002.0154.2019.02.21.10.03.25.687500.107968298.IMA\n20190221_T01_ZHANGZJ_LX_LIUZHONGXUN/20190221_T01_ZHANGZJ_LX_LIUZHONGXUN.MR.BNU_CST_2011_ZHANG_ZHANJUN.0002.0029.2019.02.21.10.03.25.687500.107966027.IMA\n20190221_T01_ZHANGZJ_LX_LIUZHONGXUN/20190221_T01_ZHANGZJ_LX_LIUZHONGXUN.MR.BNU_CST_2011_ZHANG_ZHANJUN.0005.0013.2019.02.21.10.03.25.687500.107975877.IMA\n20190221_T01_ZHANGZJ_LX_LIUZHONGXUN/20190221_T01_ZHANGZJ_LX_LIUZHONGXUN.MR.BNU_CST_2011_ZHANG_ZHANJUN.0003.0072.2019.02.21.10.03.25.687500.107971916.IMA\n20190221_T01_ZHANGZJ_LX_LIUZHONGXUN/20190221_T01_ZHANGZJ_LX_LIUZHONGXUN.MR.BNU_CST_2011_ZHANG_ZHANJUN.0005.0009.2019.02.21.10.03.25.687500.107975841.IMA\n20190221_T01_ZHANGZJ_LX_LIUZHONGXUN/20190221_T01_ZHANGZJ_LX_LIUZHONGXUN.MR.BNU_CST_2011_ZHANG_ZHANJUN.0002.0173.2019.02.21.10.03.25.687500.107968643.IMA\n20190221_T01_ZHANGZJ_LX_LIUZHONGXUN/20190221_T01_ZHANGZJ_LX_LIUZHONGXUN.MR.BNU_CST_2011_ZHANG_ZHANJUN.0003.0165.2019.02.21.10.03.25.687500.107973590.IMA\n20190221_T01_ZHANGZJ_LX_LIUZHONGXUN/20190221_T01_ZHANGZJ_LX_LIUZHONGXUN.MR.BNU_CST_2011_ZHANG_ZHANJUN.0003.0017.2019.02.21.10.03.25.687500.107970926.IMA\n20190221_T01_ZHANGZJ_LX_LIUZHONGXUN/20190221_T01_ZHANGZJ_LX_LIUZHONGXUN.MR.BNU_CST_2011_ZHANG_ZHANJUN.0002.0194.2019.02.21.10.03.25.687500.107969024.IMA\n20190221_T01_ZHANGZJ_LX_LIUZHONGXUN/20190221_T01_ZHANGZJ_LX_LIUZHONGXUN.MR.BNU_CST_2011_ZHANG_ZHANJUN.0003.0102.2019.02.21.10.03.25.687500.107972456.IMA\n20190221_T01_ZHANGZJ_LX_LIUZHONGXUN/20190221_T01_ZHANGZJ_LX_LIUZHONGXUN.MR.BNU_CST_2011_ZHANG_ZHANJUN.0005.0016.2019.02.21.10.03.25.687500.107976114.IMA\n20190221_T01_ZHANGZJ_LX_LIUZHONGXUN/20190221_T01_ZHANGZJ_LX_LIUZHONGXUN.MR.BNU_CST_2011_ZHANG_ZHANJUN.0002.0202.2019.02.21.10.03.25.687500.107969168.IMA\n20190221_T01_ZHANGZJ_LX_LIUZHONGXUN/20190221_T01_ZHANGZJ_LX_LIUZHONGXUN.MR.BNU_CST_2011_ZHANG_ZHANJUN.0005.0022.2019.02.21.10.03.25.687500.107976168.IMA\n20190221_T01_ZHANGZJ_LX_LIUZHONGXUN/20190221_T01_ZHANGZJ_LX_LIUZHONGXUN.MR.BNU_CST_2011_ZHANG_ZHANJUN.0006.0028.2019.02.21.10.03.25.687500.107977281.IMA\n20190221_T01_ZHANGZJ_LX_LIUZHONGXUN/20190221_T01_ZHANGZJ_LX_LIUZHONGXUN.MR.BNU_CST_2011_ZHANG_ZHANJUN.0002.0240.2019.02.21.10.03.25.687500.107969858.IMA\n20190221_T01_ZHANGZJ_LX_LIUZHONGXUN/20190221_T01_ZHANGZJ_LX_LIUZHONGXUN.MR.BNU_CST_2011_ZHANG_ZHANJUN.0003.0147.2019.02.21.10.03.25.687500.107973266.IMA\n20190221_T01_ZHANGZJ_LX_LIUZHONGXUN/20190221_T01_ZHANGZJ_LX_LIUZHONGXUN.MR.BNU_CST_2011_ZHANG_ZHANJUN.0009.0001.2019.02.21.10.03.25.687500.107978390.IMA\n20190221_T01_ZHANGZJ_LX_LIUZHONGXUN/20190221_T01_ZHANGZJ_LX_LIUZHONGXUN.MR.BNU_CST_2011_ZHANG_ZHANJUN.0002.0135.2019.02.21.10.03.25.687500.107967953.IMA\n20190221_T01_ZHANGZJ_LX_LIUZHONGXUN/20190221_T01_ZHANGZJ_LX_LIUZHONGXUN.MR.BNU_CST_2011_ZHANG_ZHANJUN.0002.0028.2019.02.21.10.03.25.687500.107966009.IMA\n20190221_T01_ZHANGZJ_LX_LIUZHONGXUN/20190221_T01_ZHANGZJ_LX_LIUZHONGXUN.MR.BNU_CST_2011_ZHANG_ZHANJUN.0002.0005.2019.02.21.10.03.25.687500.107965588.IMA\n20190221_T01_ZHANGZJ_LX_LIUZHONGXUN/20190221_T01_ZHANGZJ_LX_LIUZHONGXUN.MR.BNU_CST_2011_ZHANG_ZHANJUN.0003.0143.2019.02.21.10.03.25.687500.107973194.IMA\n20190221_T01_ZHANGZJ_LX_LIUZHONGXUN/20190221_T01_ZHANGZJ_LX_LIUZHONGXUN.MR.BNU_CST_2011_ZHANG_ZHANJUN.0003.0004.2019.02.21.10.03.25.687500.107970692.IMA\n20190221_T01_ZHANGZJ_LX_LIUZHONGXUN/20190221_T01_ZHANGZJ_LX_LIUZHONGXUN.MR.BNU_CST_2011_ZHANG_ZHANJUN.0002.0222.2019.02.21.10.03.25.687500.107969531.IMA\n20190221_T01_ZHANGZJ_LX_LIUZHONGXUN/20190221_T01_ZHANGZJ_LX_LIUZHONGXUN.MR.BNU_CST_2011_ZHANG_ZHANJUN.0003.0145.2019.02.21.10.03.25.687500.107973230.IMA\n20190221_T01_ZHANGZJ_LX_LIUZHONGXUN/20190221_T01_ZHANGZJ_LX_LIUZHONGXUN.MR.BNU_CST_2011_ZHANG_ZHANJUN.0005.0001.2019.02.21.10.03.25.687500.107975762.IMA\n20190221_T01_ZHANGZJ_LX_LIUZHONGXUN/20190221_T01_ZHANGZJ_LX_LIUZHONGXUN.MR.BNU_CST_2011_ZHANG_ZHANJUN.0002.0099.2019.02.21.10.03.25.687500.107967299.IMA\n20190221_T01_ZHANGZJ_LX_LIUZHONGXUN/20190221_T01_ZHANGZJ_LX_LIUZHONGXUN.MR.BNU_CST_2011_ZHANG_ZHANJUN.0008.0007.2019.02.21.10.03.25.687500.107977922.IMA\n20190221_T01_ZHANGZJ_LX_LIUZHONGXUN/20190221_T01_ZHANGZJ_LX_LIUZHONGXUN.MR.BNU_CST_2011_ZHANG_ZHANJUN.0101.0012.2019.02.21.10.03.25.687500.346409574.IMA\n20190221_T01_ZHANGZJ_LX_LIUZHONGXUN/20190221_T01_ZHANGZJ_LX_LIUZHONGXUN.MR.BNU_CST_2011_ZHANG_ZHANJUN.0003.0041.2019.02.21.10.03.25.687500.107971358.IMA\n20190221_T01_ZHANGZJ_LX_LIUZHONGXUN/20190221_T01_ZHANGZJ_LX_LIUZHONGXUN.MR.BNU_CST_2011_ZHANG_ZHANJUN.0006.0009.2019.02.21.10.03.25.687500.107976932.IMA\n20190221_T01_ZHANGZJ_LX_LIUZHONGXUN/20190221_T01_ZHANGZJ_LX_LIUZHONGXUN.MR.BNU_CST_2011_ZHANG_ZHANJUN.0003.0076.2019.02.21.10.03.25.687500.107971988.IMA\n20190221_T01_ZHANGZJ_LX_LIUZHONGXUN/20190221_T01_ZHANGZJ_LX_LIUZHONGXUN.MR.BNU_CST_2011_ZHANG_ZHANJUN.0002.0186.2019.02.21.10.03.25.687500.107968877.IMA\n20190221_T01_ZHANGZJ_LX_LIUZHONGXUN/20190221_T01_ZHANGZJ_LX_LIUZHONGXUN.MR.BNU_CST_2011_ZHANG_ZHANJUN.0100.0026.2019.02.21.10.03.25.687500.346403104.IMA\n20190221_T01_ZHANGZJ_LX_LIUZHONGXUN/20190221_T01_ZHANGZJ_LX_LIUZHONGXUN.MR.BNU_CST_2011_ZHANG_ZHANJUN.0100.0031.2019.02.21.10.03.25.687500.346403259.IMA\n20190221_T01_ZHANGZJ_LX_LIUZHONGXUN/20190221_T01_ZHANGZJ_LX_LIUZHONGXUN.MR.BNU_CST_2011_ZHANG_ZHANJUN.0002.0169.2019.02.21.10.03.25.687500.107968568.IMA\n20190221_T01_ZHANGZJ_LX_LIUZHONGXUN/20190221_T01_ZHANGZJ_LX_LIUZHONGXUN.MR.BNU_CST_2011_ZHANG_ZHANJUN.0002.0065.2019.02.21.10.03.25.687500.107966681.IMA\n20190221_T01_ZHANGZJ_LX_LIUZHONGXUN/20190221_T01_ZHANGZJ_LX_LIUZHONGXUN.MR.BNU_CST_2011_ZHANG_ZHANJUN.0003.0148.2019.02.21.10.03.25.687500.107973284.IMA\n20190221_T01_ZHANGZJ_LX_LIUZHONGXUN/20190221_T01_ZHANGZJ_LX_LIUZHONGXUN.MR.BNU_CST_2011_ZHANG_ZHANJUN.0003.0171.2019.02.21.10.03.25.687500.107973698.IMA\n20190221_T01_ZHANGZJ_LX_LIUZHONGXUN/20190221_T01_ZHANGZJ_LX_LIUZHONGXUN.MR.BNU_CST_2011_ZHANG_ZHANJUN.0002.0156.2019.02.21.10.03.25.687500.107968334.IMA\n20190221_T01_ZHANGZJ_LX_LIUZHONGXUN/20190221_T01_ZHANGZJ_LX_LIUZHONGXUN.MR.BNU_CST_2011_ZHANG_ZHANJUN.0100.0024.2019.02.21.10.03.25.687500.346403042.IMA\n20190221_T01_ZHANGZJ_LX_LIUZHONGXUN/20190221_T01_ZHANGZJ_LX_LIUZHONGXUN.MR.BNU_CST_2011_ZHANG_ZHANJUN.0002.0163.2019.02.21.10.03.25.687500.107968460.IMA\n20190221_T01_ZHANGZJ_LX_LIUZHONGXUN/20190221_T01_ZHANGZJ_LX_LIUZHONGXUN.MR.BNU_CST_2011_ZHANG_ZHANJUN.0002.0060.2019.02.21.10.03.25.687500.107966591.IMA\n20190221_T01_ZHANGZJ_LX_LIUZHONGXUN/20190221_T01_ZHANGZJ_LX_LIUZHONGXUN.MR.BNU_CST_2011_ZHANG_ZHANJUN.0002.0187.2019.02.21.10.03.25.687500.107968895.IMA\n20190221_T01_ZHANGZJ_LX_LIUZHONGXUN/20190221_T01_ZHANGZJ_LX_LIUZHONGXUN.MR.BNU_CST_2011_ZHANG_ZHANJUN.0002.0064.2019.02.21.10.03.25.687500.107966663.IMA\n20190221_T01_ZHANGZJ_LX_LIUZHONGXUN/20190221_T01_ZHANGZJ_LX_LIUZHONGXUN.MR.BNU_CST_2011_ZHANG_ZHANJUN.0003.0005.2019.02.21.10.03.25.687500.107970710.IMA\n20190221_T01_ZHANGZJ_LX_LIUZHONGXUN/20190221_T01_ZHANGZJ_LX_LIUZHONGXUN.MR.BNU_CST_2011_ZHANG_ZHANJUN.0002.0132.2019.02.21.10.03.25.687500.107967896.IMA\n20190221_T01_ZHANGZJ_LX_LIUZHONGXUN/20190221_T01_ZHANGZJ_LX_LIUZHONGXUN.MR.BNU_CST_2011_ZHANG_ZHANJUN.0004.0022.2019.02.21.10.03.25.687500.107975132.IMA\n20190221_T01_ZHANGZJ_LX_LIUZHONGXUN/20190221_T01_ZHANGZJ_LX_LIUZHONGXUN.MR.BNU_CST_2011_ZHANG_ZHANJUN.0002.0159.2019.02.21.10.03.25.687500.107968388.IMA\n20190221_T01_ZHANGZJ_LX_LIUZHONGXUN/20190221_T01_ZHANGZJ_LX_LIUZHONGXUN.MR.BNU_CST_2011_ZHANG_ZHANJUN.0002.0184.2019.02.21.10.03.25.687500.107968841.IMA\n20190221_T01_ZHANGZJ_LX_LIUZHONGXUN/20190221_T01_ZHANGZJ_LX_LIUZHONGXUN.MR.BNU_CST_2011_ZHANG_ZHANJUN.0003.0157.2019.02.21.10.03.25.687500.107973446.IMA\n20190221_T01_ZHANGZJ_LX_LIUZHONGXUN/20190221_T01_ZHANGZJ_LX_LIUZHONGXUN.MR.BNU_CST_2011_ZHANG_ZHANJUN.0003.0175.2019.02.21.10.03.25.687500.107973770.IMA\n20190221_T01_ZHANGZJ_LX_LIUZHONGXUN/20190221_T01_ZHANGZJ_LX_LIUZHONGXUN.MR.BNU_CST_2011_ZHANG_ZHANJUN.0003.0077.2019.02.21.10.03.25.687500.107972006.IMA\n20190221_T01_ZHANGZJ_LX_LIUZHONGXUN/20190221_T01_ZHANGZJ_LX_LIUZHONGXUN.MR.BNU_CST_2011_ZHANG_ZHANJUN.0008.0006.2019.02.21.10.03.25.687500.107977904.IMA\n20190221_T01_ZHANGZJ_LX_LIUZHONGXUN/20190221_T01_ZHANGZJ_LX_LIUZHONGXUN.MR.BNU_CST_2011_ZHANG_ZHANJUN.0002.0007.2019.02.21.10.03.25.687500.107965624.IMA\n20190221_T01_ZHANGZJ_LX_LIUZHONGXUN/20190221_T01_ZHANGZJ_LX_LIUZHONGXUN.MR.BNU_CST_2011_ZHANG_ZHANJUN.0002.0153.2019.02.21.10.03.25.687500.107968280.IMA\n20190221_T01_ZHANGZJ_LX_LIUZHONGXUN/20190221_T01_ZHANGZJ_LX_LIUZHONGXUN.MR.BNU_CST_2011_ZHANG_ZHANJUN.0002.0097.2019.02.21.10.03.25.687500.107967263.IMA\n20190221_T01_ZHANGZJ_LX_LIUZHONGXUN/20190221_T01_ZHANGZJ_LX_LIUZHONGXUN.MR.BNU_CST_2011_ZHANG_ZHANJUN.0002.0143.2019.02.21.10.03.25.687500.107968097.IMA\n20190221_T01_ZHANGZJ_LX_LIUZHONGXUN/20190221_T01_ZHANGZJ_LX_LIUZHONGXUN.MR.BNU_CST_2011_ZHANG_ZHANJUN.0003.0058.2019.02.21.10.03.25.687500.107971664.IMA\n20190221_T01_ZHANGZJ_LX_LIUZHONGXUN/20190221_T01_ZHANGZJ_LX_LIUZHONGXUN.MR.BNU_CST_2011_ZHANG_ZHANJUN.0003.0124.2019.02.21.10.03.25.687500.107972852.IMA\n20190221_T01_ZHANGZJ_LX_LIUZHONGXUN/20190221_T01_ZHANGZJ_LX_LIUZHONGXUN.MR.BNU_CST_2011_ZHANG_ZHANJUN.0003.0020.2019.02.21.10.03.25.687500.107970980.IMA\n20190221_T01_ZHANGZJ_LX_LIUZHONGXUN/20190221_T01_ZHANGZJ_LX_LIUZHONGXUN.MR.BNU_CST_2011_ZHANG_ZHANJUN.0002.0226.2019.02.21.10.03.25.687500.107969603.IMA\n20190221_T01_ZHANGZJ_LX_LIUZHONGXUN/20190221_T01_ZHANGZJ_LX_LIUZHONGXUN.MR.BNU_CST_2011_ZHANG_ZHANJUN.0002.0120.2019.02.21.10.03.25.687500.107967680.IMA\n20190221_T01_ZHANGZJ_LX_LIUZHONGXUN/20190221_T01_ZHANGZJ_LX_LIUZHONGXUN.MR.BNU_CST_2011_ZHANG_ZHANJUN.0002.0101.2019.02.21.10.03.25.687500.107967335.IMA\n20190221_T01_ZHANGZJ_LX_LIUZHONGXUN/20190221_T01_ZHANGZJ_LX_LIUZHONGXUN.MR.BNU_CST_2011_ZHANG_ZHANJUN.0002.0204.2019.02.21.10.03.25.687500.107969204.IMA\n20190221_T01_ZHANGZJ_LX_LIUZHONGXUN/20190221_T01_ZHANGZJ_LX_LIUZHONGXUN.MR.BNU_CST_2011_ZHANG_ZHANJUN.0002.0209.2019.02.21.10.03.25.687500.107969294.IMA\n20190221_T01_ZHANGZJ_LX_LIUZHONGXUN/20190221_T01_ZHANGZJ_LX_LIUZHONGXUN.MR.BNU_CST_2011_ZHANG_ZHANJUN.0002.0102.2019.02.21.10.03.25.687500.107967353.IMA\n20190221_T01_ZHANGZJ_LX_LIUZHONGXUN/20190221_T01_ZHANGZJ_LX_LIUZHONGXUN.MR.BNU_CST_2011_ZHANG_ZHANJUN.0003.0115.2019.02.21.10.03.25.687500.107972690.IMA\n20190221_T01_ZHANGZJ_LX_LIUZHONGXUN/20190221_T01_ZHANGZJ_LX_LIUZHONGXUN.MR.BNU_CST_2011_ZHANG_ZHANJUN.0005.0021.2019.02.21.10.03.25.687500.107975949.IMA\n20190221_T01_ZHANGZJ_LX_LIUZHONGXUN/20190221_T01_ZHANGZJ_LX_LIUZHONGXUN.MR.BNU_CST_2011_ZHANG_ZHANJUN.0003.0046.2019.02.21.10.03.25.687500.107971448.IMA\n20190221_T01_ZHANGZJ_LX_LIUZHONGXUN/20190221_T01_ZHANGZJ_LX_LIUZHONGXUN.MR.BNU_CST_2011_ZHANG_ZHANJUN.0003.0133.2019.02.21.10.03.25.687500.107973014.IMA\n20190221_T01_ZHANGZJ_LX_LIUZHONGXUN/20190221_T01_ZHANGZJ_LX_LIUZHONGXUN.MR.BNU_CST_2011_ZHANG_ZHANJUN.0100.0029.2019.02.21.10.03.25.687500.346403197.IMA\n20190221_T01_ZHANGZJ_LX_LIUZHONGXUN/20190221_T01_ZHANGZJ_LX_LIUZHONGXUN.MR.BNU_CST_2011_ZHANG_ZHANJUN.0003.0176.2019.02.21.10.03.25.687500.107973788.IMA\n20190221_T01_ZHANGZJ_LX_LIUZHONGXUN/20190221_T01_ZHANGZJ_LX_LIUZHONGXUN.MR.BNU_CST_2011_ZHANG_ZHANJUN.0002.0017.2019.02.21.10.03.25.687500.107965804.IMA\n20190221_T01_ZHANGZJ_LX_LIUZHONGXUN/20190221_T01_ZHANGZJ_LX_LIUZHONGXUN.MR.BNU_CST_2011_ZHANG_ZHANJUN.0002.0009.2019.02.21.10.03.25.687500.107965660.IMA\n20190221_T01_ZHANGZJ_LX_LIUZHONGXUN/20190221_T01_ZHANGZJ_LX_LIUZHONGXUN.MR.BNU_CST_2011_ZHANG_ZHANJUN.0002.0067.2019.02.21.10.03.25.687500.107966717.IMA\n20190221_T01_ZHANGZJ_LX_LIUZHONGXUN/20190221_T01_ZHANGZJ_LX_LIUZHONGXUN.MR.BNU_CST_2011_ZHANG_ZHANJUN.0002.0110.2019.02.21.10.03.25.687500.107967497.IMA\n20190221_T01_ZHANGZJ_LX_LIUZHONGXUN/20190221_T01_ZHANGZJ_LX_LIUZHONGXUN.MR.BNU_CST_2011_ZHANG_ZHANJUN.0002.0048.2019.02.21.10.03.25.687500.107966372.IMA\n20190221_T01_ZHANGZJ_LX_LIUZHONGXUN/20190221_T01_ZHANGZJ_LX_LIUZHONGXUN.MR.BNU_CST_2011_ZHANG_ZHANJUN.0008.0003.2019.02.21.10.03.25.687500.107977850.IMA\n20190221_T01_ZHANGZJ_LX_LIUZHONGXUN/20190221_T01_ZHANGZJ_LX_LIUZHONGXUN.MR.BNU_CST_2011_ZHANG_ZHANJUN.0002.0152.2019.02.21.10.03.25.687500.107968259.IMA\n20190221_T01_ZHANGZJ_LX_LIUZHONGXUN/20190221_T01_ZHANGZJ_LX_LIUZHONGXUN.MR.BNU_CST_2011_ZHANG_ZHANJUN.0002.0144.2019.02.21.10.03.25.687500.107968115.IMA\n20190221_T01_ZHANGZJ_LX_LIUZHONGXUN/20190221_T01_ZHANGZJ_LX_LIUZHONGXUN.MR.BNU_CST_2011_ZHANG_ZHANJUN.0002.0139.2019.02.21.10.03.25.687500.107968025.IMA\n20190221_T01_ZHANGZJ_LX_LIUZHONGXUN/20190221_T01_ZHANGZJ_LX_LIUZHONGXUN.MR.BNU_CST_2011_ZHANG_ZHANJUN.0003.0079.2019.02.21.10.03.25.687500.107972042.IMA\n"
    }
   ],
   "source": [
    "import os\n",
    "import tarfile\n",
    "import gzip\n",
    "import shutil\n",
    "\n",
    "def gunzip(file_path):\n",
    "    file = file_path.replace('.gz', '')\n",
    "    g_file = gzip.GzipFile(file_path)\n",
    "    with open(file, 'wb+') as f:\n",
    "        f.write(g_file.read())\n",
    "    g_file.close()\n",
    "\n",
    "\n",
    "def untar(file_path, out_root):\n",
    "    file_name = os.path.split(file_path)[-1]\n",
    "    file = file_name.replace('.tar', '')\n",
    "    out_path = os.path.join(out_root, file)\n",
    "    if not os.path.exists(out_path):\n",
    "        os.makedirs(out_path)\n",
    "    tar = tarfile.open(file_path)\n",
    "    for sub in tar.getnames():\n",
    "        print(sub)\n",
    "        tar.extract(sub, out_path)\n",
    "    tar.close()\n",
    "\n",
    "    # move file into out_path, and remove other dir in out_path\n",
    "    for a, b, c in os.walk(out_path):\n",
    "        if a == out_path:\n",
    "            continue\n",
    "        for i in c:\n",
    "            tmp_path = os.path.join(a, i)\n",
    "            shutil.move(tmp_path, out_path)\n",
    "        os.removedirs(a)\n",
    "\n",
    "gunzip(r'Test\\20190221_T01_ZHANGZJ_LX_LIUZHONGXUN.tar.gz')\n",
    "untar(r'Test\\20190221_T01_ZHANGZJ_LX_LIUZHONGXUN.tar', r'Test')"
   ]
  },
  {
   "source": [
    "\n",
    "分解模态。"
   ],
   "cell_type": "markdown",
   "metadata": {}
  },
  {
   "cell_type": "code",
   "execution_count": 2,
   "metadata": {
    "tags": []
   },
   "outputs": [],
   "source": [
    "import os\n",
    "import shutil\n",
    "import nibabel as nib\n",
    "import pydicom\n",
    "\n",
    "def sorted(file_path):\n",
    "    file_name = os.path.split(file_path)[-1]\n",
    "    for i in os.listdir(file_path):\n",
    "        dcm_file = os.path.join(file_path, i)\n",
    "        ds = pydicom.dcmread(dcm_file)\n",
    "        series_name = ds[0x0018, 0x1030].value\n",
    "        series_name = series_name.replace('.', '_')\n",
    "        series_id = ds[0x0020, 0x0011].value\n",
    "        out_path = os.path.join(file_path, f'{int(series_id):04d}_{series_name}')\n",
    "        if not os.path.exists(out_path):\n",
    "            os.makedirs(out_path)\n",
    "        shutil.move(os.path.join(file_path, i), out_path)\n",
    "\n",
    "sorted(r'Test\\20190221_T01_ZHANGZJ_LX_LIUZHONGXUN')"
   ]
  },
  {
   "source": [
    "将不同模态数据复制到相应的文件夹。"
   ],
   "cell_type": "markdown",
   "metadata": {}
  },
  {
   "cell_type": "code",
   "execution_count": 1,
   "metadata": {},
   "outputs": [],
   "source": [
    "import os\n",
    "import shutil\n",
    "import tarfile\n",
    "\n",
    "def tar(file_path, out_file):\n",
    "    tar = tarfile.open(out_file, 'w:gz')\n",
    "    for a, b, c in os.walk(file_path):\n",
    "        for i in c:\n",
    "            tar.add(os.path.join(a, i), arcname=i)\n",
    "    tar.close()\n",
    "\n",
    "def mv(file_path, out_root, machine='OLD'):\n",
    "    file_name = os.path.split(file_path)[-1]\n",
    "    \n",
    "    squences = {\n",
    "            'ge_func_31x31x35_240_RS': \"REST\",\n",
    "            'ge_func_3x3x3p5_303': \"EM\",\n",
    "            'ge_func_3x3x3p5_235': \"NBACK\",\n",
    "            't1_mprage_sag_tr1900': \"T1\",\n",
    "            't2_tirm_tra_dark-fluid-p2_new': \"FLAIR\",\n",
    "            'DTI_30_2x2x2_128x128_b1000_p2': \"DTI\",\n",
    "            't2_tse_tra_320_p2': \"T2\",\n",
    "            'ge_func_3x3x3p5_360': \"LANT\"\n",
    "            }\n",
    "    if machine == 'OLD':\n",
    "        pass\n",
    "    else:\n",
    "        squences = {\n",
    "            't1_mprage_sag_1x1x1_p2_20ch': \"T1\",\n",
    "            'bold_64x64_s2_3x3x3p5_tr1000_fa70': \"REST\",\n",
    "            'bold_80x80_s2_2.5iso_tr2000': \"REST\",\n",
    "            'DTI_BP_64_2x2x2_s2_p2_6-8': \"DTI\",\n",
    "            'field_mapping_2x2x2_for_DTI': \"DTI\",\n",
    "            'AAHead_Scout': \"AAHead_Scout\",\n",
    "            't2_blade_tra_p2': \"T2WI\",\n",
    "            't1_tirm_tra_dark-fluid_p2': \"FLAIR\",\n",
    "            't2_tirm_tra_dark-fluid': \"FLAIR\",\n",
    "            't2_blade_sag': \"T2WI\",\n",
    "            'HighResHippocampus': \"HIPPO\",\n",
    "            'TOF_3D_multi-slab': \"TOF\",\n",
    "            'Sagittal 3D FLAIR': \"3D-FLAIR\",\n",
    "            'ASL_3D_tra_iso': \"ASL\"\n",
    "        }\n",
    "\n",
    "    for i in os.listdir(file_path):\n",
    "        series_name = i[5:]\n",
    "        if series_name in squences.keys():\n",
    "            tmp_src_path = os.path.join(file_path, i)\n",
    "            tmp_dst_path = os.path.join(out_root, squences[series_name], file_name)\n",
    "            if not os.path.exists(tmp_dst_path):\n",
    "                os.makedirs(tmp_dst_path)\n",
    "            for j in os.listdir(tmp_src_path): \n",
    "                shutil.copy(os.path.join(tmp_src_path, j), os.path.join(tmp_dst_path, j))\n",
    "            tar(tmp_dst_path, f'{tmp_dst_path}.tar.gz')\n",
    "            shutil.rmtree(tmp_dst_path)\n",
    "    shutil.rmtree(file_path)\n",
    "\n",
    "\n",
    "mv(r'Test\\20190221_T01_ZHANGZJ_LX_LIUZHONGXUN', 'Test', 'OLD')"
   ]
  },
  {
   "cell_type": "code",
   "execution_count": 1,
   "metadata": {},
   "outputs": [
    {
     "output_type": "execute_result",
     "data": {
      "text/plain": "      序号   姓名 性别  年龄    教育   社区        时间          身份证号  \\\n0   2514   褚运  男  67  11.0  王建平  20200104           NaN   \n1   2515   丛敏  女  63  13.0  王建平  20200104  1.101062e+17   \n2   2516  张淑琴  女  59  12.0  王建平  20200104  1.101012e+17   \n3   2517  陶晓坤  女  62  12.0  王建平  20200104  2.327002e+17   \n4   2518  张美伶  女  55   8.0  王建平  20200104  1.102282e+17   \n5   2519  王金凤  女  62  12.0  王建平  20200104  1.101082e+17   \n6   2520   何婷  女  62  15.5  安德里  20200107  1.101012e+17   \n7   2521  窦建国  男  63  14.5  安德里  20200107  1.101012e+17   \n8   2522   徐宏  女  67  13.0  安德里  20200107  1.101052e+17   \n9   2523   张燕  女  63   9.0  王家园  20200107  1.101012e+17   \n10  2524  王志鑫  男  70  14.0  王建平  20200111  1.426022e+17   \n11  2525  霍灵菊  女  66   7.0  王建平  20200111  1.426022e+17   \n12  2526  王丽华  女  64  13.0  王建平  20200111  1.101032e+17   \n13  2527  朱景林  男  51  17.0  王建平  20200111  2.113192e+17   \n14  2528  马士荣  女  63  11.0  王建平  20200111  1.101092e+17   \n15  2529  左鹏俭  女  59   9.0  王建平  20200111  1.423222e+17   \n\n                        备注   结构  ... 情景记忆 工作记忆  DTI flair  临床  失独老人任务  \\\n0                      NaN    √  ...  NaN  NaN    √     √ NaN       √   \n1                      NaN    √  ...  NaN  NaN    √     √ NaN       √   \n2                      NaN    √  ...  NaN  NaN    √     √ NaN       √   \n3                      NaN    √  ...  NaN  NaN    √     √ NaN       √   \n4                      NaN    √  ...  NaN  NaN    √     √ NaN       √   \n5                      NaN    √  ...  NaN  NaN    √     √ NaN       √   \n6                  25182-2    √  ...  NaN  NaN    √     √ NaN       √   \n7                  25561-1    √  ...    √    √    √     √ NaN     NaN   \n8   25585-1 2颗纯钛种植牙，下左5 右5    √  ...    √    √    √     √ NaN     NaN   \n9                      NaN    √  ...    √    √    √     √ NaN     NaN   \n10                     NaN    √  ...  NaN  NaN    √     √ NaN       √   \n11                     NaN    √  ...  NaN  NaN    √     √ NaN       √   \n12                     NaN  NaN  ...  NaN  NaN  NaN   NaN NaN       √   \n13                     NaN    √  ...  NaN  NaN    √     √ NaN       √   \n14                     NaN    √  ...  NaN  NaN    √     √ NaN       √   \n15                     NaN    √  ...  NaN  NaN    √     √ NaN       √   \n\n   CheckDateName CheckDateName_A  CheckSeries  CheckSeries_A  \n0             no             NaN          NaN            NaN  \n1             no             NaN          NaN            NaN  \n2             no             NaN          NaN            NaN  \n3             no             NaN          NaN            NaN  \n4             no             NaN          NaN            NaN  \n5             no             NaN          NaN            NaN  \n6             no             NaN          NaN            NaN  \n7             no             NaN          NaN            NaN  \n8             no             NaN          NaN            NaN  \n9             no             NaN          NaN            NaN  \n10            no             NaN          NaN            NaN  \n11            no             NaN          NaN            NaN  \n12            no             NaN          NaN            NaN  \n13            no             NaN          NaN            NaN  \n14            no             NaN          NaN            NaN  \n15            no             NaN          NaN            NaN  \n\n[16 rows x 21 columns]",
      "text/html": "<div>\n<style scoped>\n    .dataframe tbody tr th:only-of-type {\n        vertical-align: middle;\n    }\n\n    .dataframe tbody tr th {\n        vertical-align: top;\n    }\n\n    .dataframe thead th {\n        text-align: right;\n    }\n</style>\n<table border=\"1\" class=\"dataframe\">\n  <thead>\n    <tr style=\"text-align: right;\">\n      <th></th>\n      <th>序号</th>\n      <th>姓名</th>\n      <th>性别</th>\n      <th>年龄</th>\n      <th>教育</th>\n      <th>社区</th>\n      <th>时间</th>\n      <th>身份证号</th>\n      <th>备注</th>\n      <th>结构</th>\n      <th>...</th>\n      <th>情景记忆</th>\n      <th>工作记忆</th>\n      <th>DTI</th>\n      <th>flair</th>\n      <th>临床</th>\n      <th>失独老人任务</th>\n      <th>CheckDateName</th>\n      <th>CheckDateName_A</th>\n      <th>CheckSeries</th>\n      <th>CheckSeries_A</th>\n    </tr>\n  </thead>\n  <tbody>\n    <tr>\n      <th>0</th>\n      <td>2514</td>\n      <td>褚运</td>\n      <td>男</td>\n      <td>67</td>\n      <td>11.0</td>\n      <td>王建平</td>\n      <td>20200104</td>\n      <td>NaN</td>\n      <td>NaN</td>\n      <td>√</td>\n      <td>...</td>\n      <td>NaN</td>\n      <td>NaN</td>\n      <td>√</td>\n      <td>√</td>\n      <td>NaN</td>\n      <td>√</td>\n      <td>no</td>\n      <td>NaN</td>\n      <td>NaN</td>\n      <td>NaN</td>\n    </tr>\n    <tr>\n      <th>1</th>\n      <td>2515</td>\n      <td>丛敏</td>\n      <td>女</td>\n      <td>63</td>\n      <td>13.0</td>\n      <td>王建平</td>\n      <td>20200104</td>\n      <td>1.101062e+17</td>\n      <td>NaN</td>\n      <td>√</td>\n      <td>...</td>\n      <td>NaN</td>\n      <td>NaN</td>\n      <td>√</td>\n      <td>√</td>\n      <td>NaN</td>\n      <td>√</td>\n      <td>no</td>\n      <td>NaN</td>\n      <td>NaN</td>\n      <td>NaN</td>\n    </tr>\n    <tr>\n      <th>2</th>\n      <td>2516</td>\n      <td>张淑琴</td>\n      <td>女</td>\n      <td>59</td>\n      <td>12.0</td>\n      <td>王建平</td>\n      <td>20200104</td>\n      <td>1.101012e+17</td>\n      <td>NaN</td>\n      <td>√</td>\n      <td>...</td>\n      <td>NaN</td>\n      <td>NaN</td>\n      <td>√</td>\n      <td>√</td>\n      <td>NaN</td>\n      <td>√</td>\n      <td>no</td>\n      <td>NaN</td>\n      <td>NaN</td>\n      <td>NaN</td>\n    </tr>\n    <tr>\n      <th>3</th>\n      <td>2517</td>\n      <td>陶晓坤</td>\n      <td>女</td>\n      <td>62</td>\n      <td>12.0</td>\n      <td>王建平</td>\n      <td>20200104</td>\n      <td>2.327002e+17</td>\n      <td>NaN</td>\n      <td>√</td>\n      <td>...</td>\n      <td>NaN</td>\n      <td>NaN</td>\n      <td>√</td>\n      <td>√</td>\n      <td>NaN</td>\n      <td>√</td>\n      <td>no</td>\n      <td>NaN</td>\n      <td>NaN</td>\n      <td>NaN</td>\n    </tr>\n    <tr>\n      <th>4</th>\n      <td>2518</td>\n      <td>张美伶</td>\n      <td>女</td>\n      <td>55</td>\n      <td>8.0</td>\n      <td>王建平</td>\n      <td>20200104</td>\n      <td>1.102282e+17</td>\n      <td>NaN</td>\n      <td>√</td>\n      <td>...</td>\n      <td>NaN</td>\n      <td>NaN</td>\n      <td>√</td>\n      <td>√</td>\n      <td>NaN</td>\n      <td>√</td>\n      <td>no</td>\n      <td>NaN</td>\n      <td>NaN</td>\n      <td>NaN</td>\n    </tr>\n    <tr>\n      <th>5</th>\n      <td>2519</td>\n      <td>王金凤</td>\n      <td>女</td>\n      <td>62</td>\n      <td>12.0</td>\n      <td>王建平</td>\n      <td>20200104</td>\n      <td>1.101082e+17</td>\n      <td>NaN</td>\n      <td>√</td>\n      <td>...</td>\n      <td>NaN</td>\n      <td>NaN</td>\n      <td>√</td>\n      <td>√</td>\n      <td>NaN</td>\n      <td>√</td>\n      <td>no</td>\n      <td>NaN</td>\n      <td>NaN</td>\n      <td>NaN</td>\n    </tr>\n    <tr>\n      <th>6</th>\n      <td>2520</td>\n      <td>何婷</td>\n      <td>女</td>\n      <td>62</td>\n      <td>15.5</td>\n      <td>安德里</td>\n      <td>20200107</td>\n      <td>1.101012e+17</td>\n      <td>25182-2</td>\n      <td>√</td>\n      <td>...</td>\n      <td>NaN</td>\n      <td>NaN</td>\n      <td>√</td>\n      <td>√</td>\n      <td>NaN</td>\n      <td>√</td>\n      <td>no</td>\n      <td>NaN</td>\n      <td>NaN</td>\n      <td>NaN</td>\n    </tr>\n    <tr>\n      <th>7</th>\n      <td>2521</td>\n      <td>窦建国</td>\n      <td>男</td>\n      <td>63</td>\n      <td>14.5</td>\n      <td>安德里</td>\n      <td>20200107</td>\n      <td>1.101012e+17</td>\n      <td>25561-1</td>\n      <td>√</td>\n      <td>...</td>\n      <td>√</td>\n      <td>√</td>\n      <td>√</td>\n      <td>√</td>\n      <td>NaN</td>\n      <td>NaN</td>\n      <td>no</td>\n      <td>NaN</td>\n      <td>NaN</td>\n      <td>NaN</td>\n    </tr>\n    <tr>\n      <th>8</th>\n      <td>2522</td>\n      <td>徐宏</td>\n      <td>女</td>\n      <td>67</td>\n      <td>13.0</td>\n      <td>安德里</td>\n      <td>20200107</td>\n      <td>1.101052e+17</td>\n      <td>25585-1 2颗纯钛种植牙，下左5 右5</td>\n      <td>√</td>\n      <td>...</td>\n      <td>√</td>\n      <td>√</td>\n      <td>√</td>\n      <td>√</td>\n      <td>NaN</td>\n      <td>NaN</td>\n      <td>no</td>\n      <td>NaN</td>\n      <td>NaN</td>\n      <td>NaN</td>\n    </tr>\n    <tr>\n      <th>9</th>\n      <td>2523</td>\n      <td>张燕</td>\n      <td>女</td>\n      <td>63</td>\n      <td>9.0</td>\n      <td>王家园</td>\n      <td>20200107</td>\n      <td>1.101012e+17</td>\n      <td>NaN</td>\n      <td>√</td>\n      <td>...</td>\n      <td>√</td>\n      <td>√</td>\n      <td>√</td>\n      <td>√</td>\n      <td>NaN</td>\n      <td>NaN</td>\n      <td>no</td>\n      <td>NaN</td>\n      <td>NaN</td>\n      <td>NaN</td>\n    </tr>\n    <tr>\n      <th>10</th>\n      <td>2524</td>\n      <td>王志鑫</td>\n      <td>男</td>\n      <td>70</td>\n      <td>14.0</td>\n      <td>王建平</td>\n      <td>20200111</td>\n      <td>1.426022e+17</td>\n      <td>NaN</td>\n      <td>√</td>\n      <td>...</td>\n      <td>NaN</td>\n      <td>NaN</td>\n      <td>√</td>\n      <td>√</td>\n      <td>NaN</td>\n      <td>√</td>\n      <td>no</td>\n      <td>NaN</td>\n      <td>NaN</td>\n      <td>NaN</td>\n    </tr>\n    <tr>\n      <th>11</th>\n      <td>2525</td>\n      <td>霍灵菊</td>\n      <td>女</td>\n      <td>66</td>\n      <td>7.0</td>\n      <td>王建平</td>\n      <td>20200111</td>\n      <td>1.426022e+17</td>\n      <td>NaN</td>\n      <td>√</td>\n      <td>...</td>\n      <td>NaN</td>\n      <td>NaN</td>\n      <td>√</td>\n      <td>√</td>\n      <td>NaN</td>\n      <td>√</td>\n      <td>no</td>\n      <td>NaN</td>\n      <td>NaN</td>\n      <td>NaN</td>\n    </tr>\n    <tr>\n      <th>12</th>\n      <td>2526</td>\n      <td>王丽华</td>\n      <td>女</td>\n      <td>64</td>\n      <td>13.0</td>\n      <td>王建平</td>\n      <td>20200111</td>\n      <td>1.101032e+17</td>\n      <td>NaN</td>\n      <td>NaN</td>\n      <td>...</td>\n      <td>NaN</td>\n      <td>NaN</td>\n      <td>NaN</td>\n      <td>NaN</td>\n      <td>NaN</td>\n      <td>√</td>\n      <td>no</td>\n      <td>NaN</td>\n      <td>NaN</td>\n      <td>NaN</td>\n    </tr>\n    <tr>\n      <th>13</th>\n      <td>2527</td>\n      <td>朱景林</td>\n      <td>男</td>\n      <td>51</td>\n      <td>17.0</td>\n      <td>王建平</td>\n      <td>20200111</td>\n      <td>2.113192e+17</td>\n      <td>NaN</td>\n      <td>√</td>\n      <td>...</td>\n      <td>NaN</td>\n      <td>NaN</td>\n      <td>√</td>\n      <td>√</td>\n      <td>NaN</td>\n      <td>√</td>\n      <td>no</td>\n      <td>NaN</td>\n      <td>NaN</td>\n      <td>NaN</td>\n    </tr>\n    <tr>\n      <th>14</th>\n      <td>2528</td>\n      <td>马士荣</td>\n      <td>女</td>\n      <td>63</td>\n      <td>11.0</td>\n      <td>王建平</td>\n      <td>20200111</td>\n      <td>1.101092e+17</td>\n      <td>NaN</td>\n      <td>√</td>\n      <td>...</td>\n      <td>NaN</td>\n      <td>NaN</td>\n      <td>√</td>\n      <td>√</td>\n      <td>NaN</td>\n      <td>√</td>\n      <td>no</td>\n      <td>NaN</td>\n      <td>NaN</td>\n      <td>NaN</td>\n    </tr>\n    <tr>\n      <th>15</th>\n      <td>2529</td>\n      <td>左鹏俭</td>\n      <td>女</td>\n      <td>59</td>\n      <td>9.0</td>\n      <td>王建平</td>\n      <td>20200111</td>\n      <td>1.423222e+17</td>\n      <td>NaN</td>\n      <td>√</td>\n      <td>...</td>\n      <td>NaN</td>\n      <td>NaN</td>\n      <td>√</td>\n      <td>√</td>\n      <td>NaN</td>\n      <td>√</td>\n      <td>no</td>\n      <td>NaN</td>\n      <td>NaN</td>\n      <td>NaN</td>\n    </tr>\n  </tbody>\n</table>\n<p>16 rows × 21 columns</p>\n</div>"
     },
     "metadata": {},
     "execution_count": 1
    }
   ],
   "source": [
    "import pandas as pd\n",
    "\n",
    "oldDf = pd.read_excel(r'0.List\\师大核磁人员情况新_20200115.xls', sheet_name='Sheet1', header=0)\n",
    "oldDf['CheckDateName'] = ['no']*len(oldDf)\n",
    "oldDf"
   ]
  },
  {
   "cell_type": "code",
   "execution_count": 12,
   "metadata": {
    "tags": []
   },
   "outputs": [
    {
     "output_type": "execute_result",
     "data": {
      "text/plain": "&#39;√&#39;"
     },
     "metadata": {},
     "execution_count": 12
    }
   ],
   "source": [
    "a = oldDf.loc[1, '结构']\n",
    "a"
   ]
  },
  {
   "cell_type": "code",
   "execution_count": 13,
   "metadata": {
    "tags": []
   },
   "outputs": [],
   "source": [
    "import numpy as np\n",
    "\n",
    "if a != '√':\n",
    "    print('ss')"
   ]
  }
 ]
}